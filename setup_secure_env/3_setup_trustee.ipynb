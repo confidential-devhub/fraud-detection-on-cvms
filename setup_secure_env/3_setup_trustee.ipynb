{
 "cells": [
  {
   "cell_type": "markdown",
   "id": "e9d17d57",
   "metadata": {},
   "source": [
    "# Setup Trustee\n",
    "\n",
    "Since we still are in the user secure environment, start Trustee server using a prepared container image at `quay.io/confidential-devhub/trustee-server` with the right parameters."
   ]
  },
  {
   "cell_type": "markdown",
   "id": "08fb9329",
   "metadata": {},
   "source": [
    "## Create kbs-config.toml\n",
    "\n",
    "Set up basic configs like the http(s) server, which key to trust and so on."
   ]
  },
  {
   "cell_type": "code",
   "execution_count": null,
   "id": "b7a85a70-7cd8-42a0-b643-2b3f09655495",
   "metadata": {},
   "outputs": [],
   "source": [
    "%%bash\n",
    "\n",
    "MACHINE_IP_ADDR=<your_trustee_ip_address>\n",
    "\n",
    "cat > kbs-config.toml <<EOF\n",
    "[http_server]\n",
    "sockets = [\"127.0.0.1:8080\",\"$MACHINE_IP_ADDR:8080\"]\n",
    "insecure_http = false #change this to true if no https is needed\n",
    "private_key = \"/https_private_key\" # if https is not needed, comment this line out\n",
    "certificate = \"/https_certificate\" # if https is not needed, comment this line out\n",
    "\n",
    "[admin]\n",
    "insecure_api = true\n",
    "auth_public_key = \"/etc/auth-secret/publicKey\"\n",
    "\n",
    "[attestation_token]\n",
    "insecure_key = true\n",
    "attestation_token_type = \"CoCo\"\n",
    "\n",
    "[attestation_service]\n",
    "type = \"coco_as_builtin\"\n",
    "work_dir = \"/opt/confidential-containers/attestation-service\"\n",
    "policy_engine = \"opa\"\n",
    "\n",
    "  [attestation_service.attestation_token_broker]\n",
    "  type = \"Ear\"\n",
    "  policy_dir = \"/opt/confidential-containers/attestation-service/policies\"\n",
    "\n",
    "  [attestation_service.attestation_token_config]\n",
    "  duration_min = 5\n",
    "\n",
    "  [attestation_service.rvps_config]\n",
    "  type = \"BuiltIn\"\n",
    "\n",
    "    [attestation_service.rvps_config.storage]\n",
    "    type = \"LocalJson\"\n",
    "    file_path = \"/opt/confidential-containers/rvps/reference-values/reference-values.json\"\n",
    "\n",
    "[[plugins]]\n",
    "name = \"resource\"\n",
    "type = \"LocalFs\"\n",
    "dir_path = \"/opt/confidential-containers/kbs/repository\"\n",
    "\n",
    "[policy_engine]\n",
    "policy_path = \"/opt/confidential-containers/opa/policy.rego\"\n",
    "EOF"
   ]
  },
  {
   "cell_type": "markdown",
   "id": "f94772e3",
   "metadata": {},
   "source": [
    "## Generate the authentication key\n",
    "\n",
    "This key is used for authenticating with the server and installing secrets into it. This means that only clients with the private key counterpart are able to insert secrets into Trustee."
   ]
  },
  {
   "cell_type": "code",
   "execution_count": null,
   "id": "d95dfaca",
   "metadata": {},
   "outputs": [],
   "source": [
    "%%bash\n",
    "\n",
    "openssl genpkey -algorithm ed25519 auth_private.key\n",
    "openssl pkey -in auth_private.key -pubout -out auth_public.pub"
   ]
  },
  {
   "cell_type": "markdown",
   "id": "730ccaac",
   "metadata": {},
   "source": [
    "## Optional configs\n",
    "\n",
    "For example, the Trustee server defaults to empty reference values `[]`. By creating `reference-values.json` we can provide actual expected measurements. To keep this demo simple, we will not provide them."
   ]
  },
  {
   "cell_type": "markdown",
   "id": "9aa0f5e0",
   "metadata": {},
   "source": [
    "## Run the Trustee server\n",
    "\n",
    "Run the container image `quay.io/confidential-devhub/trustee-server`."
   ]
  },
  {
   "cell_type": "code",
   "execution_count": null,
   "id": "6ea3b8cd",
   "metadata": {},
   "outputs": [],
   "source": [
    "%%bash\n",
    "\n",
    "podman run \\\n",
    "  --privileged \\\n",
    "  -v ./kbs-config.toml:/etc/kbs-config/kbs-config.toml \\\n",
    "  -v ./auth_public.pub:/etc/auth-secret/publicKey \\\n",
    "  -v /dev/log:/dev/log \\\n",
    "  -p 8080:8080 \\\n",
    "  --rm \\\n",
    "  quay.io/confidential-devhub/trustee-server:v0.3.0 \\\n",
    "  /usr/local/bin/kbs --config-file /etc/kbs-config/kbs-config.toml"
   ]
  },
  {
   "cell_type": "markdown",
   "id": "79953eca",
   "metadata": {},
   "source": [
    "If the https self signed certificate has been added, extend the podman command with `  -v ./https_private_key:/https_private_key\n",
    "  -v ./https_certificate:/https_certificate`. If the reference values are provided, extend the podman command with `-v ./reference-values.json:/opt/confidential-containers/rvps/reference-values/reference-values.json`."
   ]
  },
  {
   "cell_type": "markdown",
   "id": "f50aa4be",
   "metadata": {},
   "source": [
    "## Insert the dataset key into Trustee\n",
    "\n",
    "Insert `key.bin` as secret in Trustee located at path `default/fraud-detection/key.bin`."
   ]
  },
  {
   "cell_type": "code",
   "execution_count": null,
   "id": "0eac04bd",
   "metadata": {},
   "outputs": [],
   "source": [
    "%%bash\n",
    "\n",
    "sudo podman run --network=host \\\n",
    "  --privileged \\\n",
    "  --device /dev/tpm0 \\\n",
    "  -v ./auth_private.key:/private-key \\\n",
    "  -v ./key.bin:/key.bin \\\n",
    "  -v /dev/log:/dev/log \\\n",
    "  --rm \\\n",
    "  quay.io/confidential-containers/kbs-client:v0.3.0 \\\n",
    "  kbs-client --url http://localhost:8080 config --auth-private-key private-key set-resource --resource-file key.bin --path default/fraud-detection/key.bin"
   ]
  },
  {
   "cell_type": "markdown",
   "id": "19216295",
   "metadata": {},
   "source": [
    "Succesful output will be\n",
    "\n",
    "```\n",
    "Set resource success\n",
    " resource: <base64 of your key>\n",
    " ```"
   ]
  }
 ],
 "metadata": {
  "kernelspec": {
   "display_name": "Python 3 (ipykernel)",
   "language": "python",
   "name": "python3"
  },
  "language_info": {
   "codemirror_mode": {
    "name": "ipython",
    "version": 3
   },
   "file_extension": ".py",
   "mimetype": "text/x-python",
   "name": "python",
   "nbconvert_exporter": "python",
   "pygments_lexer": "ipython3",
   "version": "3.9.21"
  }
 },
 "nbformat": 4,
 "nbformat_minor": 5
}
