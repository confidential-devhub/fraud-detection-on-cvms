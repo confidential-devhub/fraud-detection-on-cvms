{
 "cells": [
  {
   "cell_type": "markdown",
   "id": "e9d17d57",
   "metadata": {},
   "source": [
    "# Setup Trustee\n",
    "\n",
    "Since we still are in the user secure environment, start Trustee server using a prepared container image at `quay.io/confidential-devhub/trustee-server` with the right parameters."
   ]
  },
  {
   "cell_type": "markdown",
   "id": "08fb9329",
   "metadata": {},
   "source": [
    "## Create kbs-config.toml\n",
    "\n",
    "Set up basic configs like the http(s) server, which key to trust and so on. Refer to the [upstream documentation](https://github.com/confidential-containers/trustee/blob/main/kbs/docs/config.md) for more info about kbs-config.toml."
   ]
  },
  {
   "cell_type": "code",
   "execution_count": null,
   "id": "b7a85a70-7cd8-42a0-b643-2b3f09655495",
   "metadata": {},
   "outputs": [],
   "source": [
    "%%bash\n",
    "\n",
    "MACHINE_IP_ADDR=<your_trustee_ip_address>\n",
    "\n",
    "cat > kbs-config.toml <<EOF\n",
    "[http_server]\n",
    "sockets = [\"127.0.0.1:8080\",\"$MACHINE_IP_ADDR:8080\"]\n",
    "insecure_http = true\n",
    "\n",
    "[admin]\n",
    "insecure_api = true\n",
    "\n",
    "[attestation_token]\n",
    "insecure_key = true\n",
    "attestation_token_type = \"CoCo\"\n",
    "\n",
    "[attestation_service]\n",
    "type = \"coco_as_builtin\"\n",
    "work_dir = \"/opt/confidential-containers/attestation-service\"\n",
    "policy_engine = \"opa\"\n",
    "\n",
    "  [attestation_service.attestation_token_broker]\n",
    "  type = \"Ear\"\n",
    "  policy_dir = \"/opt/confidential-containers/attestation-service/policies\"\n",
    "\n",
    "  [attestation_service.attestation_token_config]\n",
    "  duration_min = 5\n",
    "\n",
    "  [attestation_service.rvps_config]\n",
    "  type = \"BuiltIn\"\n",
    "\n",
    "    [attestation_service.rvps_config.storage]\n",
    "    type = \"LocalJson\"\n",
    "    file_path = \"/opt/confidential-containers/rvps/reference-values/reference-values.json\"\n",
    "\n",
    "[[plugins]]\n",
    "name = \"resource\"\n",
    "type = \"LocalFs\"\n",
    "dir_path = \"/opt/confidential-containers/kbs/repository\"\n",
    "\n",
    "[policy_engine]\n",
    "policy_path = \"/opt/confidential-containers/opa/policy.rego\"\n",
    "\n",
    "EOF"
   ]
  },
  {
   "cell_type": "markdown",
   "id": "730ccaac",
   "metadata": {},
   "source": [
    "## Optional configs\n",
    "\n",
    "For example, the Trustee server defaults to empty reference values `[]`. By creating `reference-values.json` we can provide actual expected measurements. To keep this demo simple, we will not provide them."
   ]
  },
  {
   "cell_type": "code",
   "execution_count": null,
   "id": "6ea3b8cd",
   "metadata": {},
   "outputs": [],
   "source": [
    "%%bash\n",
    "\n",
    "podman run \\\n",
    "  --privileged \\\n",
    "  -v ./kbs-config.toml:/etc/kbs-config/kbs-config.toml \\\n",
    "  -v ./auth_public.pub:/etc/auth-secret/publicKey \\\n",
    "  -v /dev/log:/dev/log \\\n",
    "  -p 8080:8080 \\\n",
    "  --rm \\\n",
    "  quay.io/confidential-devhub/trustee-server:v0.3.0 \\\n",
    "  /usr/local/bin/kbs --config-file /etc/kbs-config/kbs-config.toml"
   ]
  },
  {
   "cell_type": "markdown",
   "id": "9aa0f5e0",
   "metadata": {},
   "source": [
    "## Run the Trustee server\n",
    "\n",
    "Run the container image `quay.io/confidential-devhub/trustee-server`.\n",
    "\n",
    "Insert `key.bin` as secret in Trustee located at path `default/fraud-detection/key.bin`.\n",
    "\n",
    "Note that in this example we won't use `https`.\n",
    "If the https self signed certificate has been added, extend the podman command with\n",
    "```\n",
    "  -v $HTTPS_PRIVATE_KEY:/https_private_key \\\n",
    "  -v $HTTPS_CERT:/https_certificate \\\n",
    "```\n",
    "\n",
    "If the reference values are provided, extend the podman command with\n",
    "```\n",
    "-v $REFERENCE_VALUES:/opt/confidential-containers/rvps/reference-values/reference-values.json\n",
    "```"
   ]
  },
  {
   "cell_type": "code",
   "execution_count": null,
   "id": "0eac04bd",
   "metadata": {},
   "outputs": [],
   "source": [
    "%%bash\n",
    "\n",
    "DECRYPTION_KEY=./key.bin\n",
    "KBS_RETRIEVAL_PATH=fraud-detection/key.bin\n",
    "MACHINE_IP_ADDR=<your_trustee_ip_address> # Insert value here\n",
    "\n",
    "\n",
    "\n",
    "KBS_CONFIG=./kbs-config.toml # insert kbs-config path\n",
    "DECRYPTION_KEY=./key.bin # insert decryption key path\n",
    "\n",
    "TRUSTEE_SECRETS_PATH=/opt/confidential-containers/kbs/repository/default\n",
    "KBS_RETRIEVAL_PATH=fraud-detection/key.bin # insert custom path here\n",
    "\n",
    "podman run \\\n",
    "  --privileged \\\n",
    "  -v $KBS_CONFIG:/etc/kbs-config/kbs-config.toml \\\n",
    "  -v $DECRYPTION_KEY:$TRUSTEE_SECRETS_PATH/$KBS_RETRIEVAL_PATH\n",
    "  -v /dev/log:/dev/log \\\n",
    "  -p 8080:8080 \\\n",
    "  --rm \\\n",
    "  quay.io/confidential-devhub/trustee-server:v0.3.0 \\\n",
    "  /usr/local/bin/kbs --config-file /etc/kbs-config/kbs-config.toml"
   ]
  },
  {
   "cell_type": "markdown",
   "id": "19216295",
   "metadata": {},
   "source": [
    "The output should be\n",
    "\n",
    "```\n",
    "[2025-04-24T07:54:20Z INFO  kbs] Using config file /etc/kbs-config/kbs-config.toml\n",
    "[2025-04-24T07:54:20Z WARN  kbs::admin] insecure admin APIs are enabled\n",
    "[2025-04-24T07:54:20Z INFO  attestation_service::rvps] launch a built-in RVPS.\n",
    "[2025-04-24T07:54:20Z INFO  attestation_service::token::ear_broker] Loading default AS policy \"ear_default_policy.rego\"\n",
    "[2025-04-24T07:54:20Z INFO  attestation_service::token::ear_broker] No Token Signer key in config file, create an ephemeral key and without CA pubkey cert\n",
    "[2025-04-24T07:54:20Z INFO  kbs::api_server] Starting HTTP server at [127.0.0.1:8080, 10.0.0.5:8080]\n",
    "[2025-04-24T07:54:20Z INFO  actix_server::builder] starting 2 workers\n",
    "[2025-04-24T07:54:20Z INFO  actix_server::server] Tokio runtime found; starting in existing Tokio runtime\n",
    "[2025-04-24T07:54:20Z INFO  actix_server::server] starting service: \"actix-web-service-127.0.0.1:8080\", workers: 2, listening on: 127.0.0.1:8080\n",
    "[2025-04-24T07:54:20Z INFO  actix_server::server] starting service: \"actix-web-service-10.0.0.5:8080\", workers: 2, listening on: 10.0.0.5:8080\n",
    " ```"
   ]
  }
 ],
 "metadata": {
  "kernelspec": {
   "display_name": "Python 3 (ipykernel)",
   "language": "python",
   "name": "python3"
  },
  "language_info": {
   "codemirror_mode": {
    "name": "ipython",
    "version": 3
   },
   "file_extension": ".py",
   "mimetype": "text/x-python",
   "name": "python",
   "nbconvert_exporter": "python",
   "pygments_lexer": "ipython3",
   "version": "3.9.21"
  }
 },
 "nbformat": 4,
 "nbformat_minor": 5
}
