{
 "cells": [
  {
   "cell_type": "markdown",
   "id": "e9d17d57",
   "metadata": {},
   "source": [
    "# Encrypt & Upload datasets\n",
    "\n",
    "Now that the dataset is ready, encrypt them. Because the same key has to be shared between the setup part (on a secure environment) and the deployed model (on a CVM), for semplicity use a shared key on a publicly available webserver."
   ]
  },
  {
   "cell_type": "code",
   "execution_count": null,
   "id": "b7a85a70-7cd8-42a0-b643-2b3f09655495",
   "metadata": {},
   "outputs": [],
   "source": [
    "! curl -L https://people.redhat.com/eesposit/key.bin -o key.bin\n",
    "# ! openssl rand 128 > key.bin"
   ]
  },
  {
   "cell_type": "code",
   "execution_count": null,
   "id": "8e2dd2cd-63c2-4ab4-9aa4-809f2f6a410d",
   "metadata": {},
   "outputs": [],
   "source": [
    "%%bash\n",
    "\n",
    "KEY_FILE=key.bin\n",
    "DATASET_SRC=datasets\n",
    "DATASET_DEST=datasets_enc\n",
    "\n",
    "mkdir -p $DATASET_DEST\n",
    "\n",
    "for file in $DATASET_SRC/*; do\n",
    "    fname=$(basename $file)\n",
    "    openssl enc -aes-256-cfb -pbkdf2 -kfile $KEY_FILE -in $file -out $DATASET_DEST/$fname.enc\n",
    "done\n",
    "\n",
    "ls $DATASET_DEST"
   ]
  },
  {
   "cell_type": "markdown",
   "id": "838a8566",
   "metadata": {},
   "source": [
    "Because the key is not needed anymore at this point, delete it. Since we are in a secure environment this is not important though."
   ]
  },
  {
   "cell_type": "code",
   "execution_count": null,
   "id": "326946d7-4f6c-4765-90a0-908961e56e88",
   "metadata": {},
   "outputs": [],
   "source": [
    "! rm -f key.bin"
   ]
  },
  {
   "cell_type": "markdown",
   "id": "1bf2a415",
   "metadata": {},
   "source": [
    "Install dependences to upload encrypted datasets to Azure Blob and AWS S3"
   ]
  },
  {
   "cell_type": "code",
   "execution_count": null,
   "id": "470b254b",
   "metadata": {},
   "outputs": [],
   "source": [
    "# Install Required Packages\n",
    "!pip install azure-storage-blob boto3 > /dev/null"
   ]
  },
  {
   "cell_type": "markdown",
   "id": "1bf2a415",
   "metadata": {},
   "source": [
    "Upload `dataset1.csv.enc` to Azure Blob Storage"
   ]
  },
  {
   "cell_type": "code",
   "execution_count": null,
   "id": "2c15952b",
   "metadata": {},
   "outputs": [],
   "source": [
    "# This section connects to Azure Blob Storage and uploads a local file.\n",
    "# Replace placeholders with your actual Azure Storage account name and key.\n",
    "from azure.storage.blob import BlobServiceClient\n",
    "import os\n",
    "\n",
    "# Azure Credentials\n",
    "account_name = \"mystorageacct12345\"  # Replace with your storage account name\n",
    "account_key = \"YOUR_AZURE_ACCESS_KEY\"  # Replace with your access key\n",
    "container_name = \"mycontainer\"\n",
    "blob_name = \"dataset1.csv.enc\"\n",
    "local_file_path = \"dataset1.csv.enc\"\n",
    "dataset_dest = \"datasets_enc\"\n",
    "\n",
    "# Build the account URL\n",
    "account_url = f\"https://{account_name}.blob.core.windows.net\"\n",
    "\n",
    "# Connect to Azure Blob Service\n",
    "blob_service_client = BlobServiceClient(account_url=account_url, credential=account_key)\n",
    "container_client = blob_service_client.get_container_client(container_name)\n",
    "\n",
    "#  Upload the file to Azure\n",
    "with open(dataset_dest + \"/\" + local_file_path, \"rb\") as data:\n",
    "    container_client.upload_blob(name=blob_name, data=data, overwrite=True)\n",
    "    print(f\"Uploaded '{blob_name}' to Azure Blob Storage\")"
   ]
  },
  {
   "cell_type": "markdown",
   "id": "2ca85907",
   "metadata": {},
   "source": [
    "Upload `dataset2.csv.enc` to AWS S3"
   ]
  },
  {
   "cell_type": "code",
   "execution_count": null,
   "id": "6412bb6e",
   "metadata": {},
   "outputs": [],
   "source": [
    "# This section connects to AWS S3 and uploads a local file.\n",
    "# Replace placeholders with your AWS access key, secret key, and bucket name.\n",
    "import boto3\n",
    "\n",
    "# AWS Credentials\n",
    "aws_access_key_id = \"YOUR_AWS_ACCESS_KEY\"\n",
    "aws_secret_access_key = \"YOUR_AWS_SECRET_KEY\"\n",
    "aws_bucket_name = \"myawsbucketaidata\"\n",
    "file_name = \"dataset2.csv.enc\"\n",
    "s3_key = \"dataset2.csv.enc\"\n",
    "dataset_dest = \"datasets_enc\"\n",
    "\n",
    "# Connect to AWS S3\n",
    "s3 = boto3.client(\n",
    "    \"s3\",\n",
    "    aws_access_key_id=aws_access_key_id,\n",
    "    aws_secret_access_key=aws_secret_access_key\n",
    ")\n",
    "\n",
    "# Upload file to AWS S3\n",
    "s3.upload_file(dataset_dest + \"/\" + file_name, aws_bucket_name, s3_key)\n",
    "print(f\"Uploaded '{file_name}' to S3 bucket '{aws_bucket_name}'\")"
   ]
  },
  {
   "cell_type": "markdown",
   "id": "838a8566",
   "metadata": {},
   "source": [
    "Let's remove both datasets, we'll emulate download of encrypted datasets later in showcase phase."
   ]
  },
  {
   "cell_type": "code",
   "execution_count": null,
   "id": "326946d7-4f6c-4765-90a0-908961e56e88",
   "metadata": {},
   "outputs": [],
   "source": [
    "! rm -rf datasets_enc datasets"
   ]
  }
 ],
 "metadata": {
  "kernelspec": {
   "display_name": "Python 3 (ipykernel)",
   "language": "python",
   "name": "python3"
  },
  "language_info": {
   "codemirror_mode": {
    "name": "ipython",
    "version": 3
   },
   "file_extension": ".py",
   "mimetype": "text/x-python",
   "name": "python",
   "nbconvert_exporter": "python",
   "pygments_lexer": "ipython3",
   "version": "3.9.21"
  }
 },
 "nbformat": 4,
 "nbformat_minor": 5
}
