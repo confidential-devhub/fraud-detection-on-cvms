{
 "cells": [
  {
   "cell_type": "markdown",
   "metadata": {
    "tags": []
   },
   "source": [
    "# Download the model"
   ]
  },
  {
   "cell_type": "markdown",
   "metadata": {},
   "source": [
    "Pull the model from `quay.io/confidential-devhub/fraud-detection`. This is the original model built with the instructions described in [the official fraud detection guide](https://docs.redhat.com/en/documentation/red_hat_openshift_ai_cloud_service/1/html-single/openshift_ai_tutorial_-_fraud_detection_example/index#training-a-model) and [the official fraud detection devel guide](https://developers.redhat.com/learning/learn:openshift:building-and-evaluating-a-fraud-detection-model-with-tensorflow-and-onnx/resource/resources:building-and-evaluating-a-fraud-detection-model-with-tensorflow-and-onnx-prerequisites-and-step-step-guide?source=sso).\n",
    "The code used to develop this model is available here[https://github.com/confidential-devhub/fraud-detection-model]"
   ]
  },
  {
   "cell_type": "code",
   "execution_count": null,
   "metadata": {
    "vscode": {
     "languageId": "plaintext"
    }
   },
   "outputs": [],
   "source": [
    "%%bash\n",
    "\n",
    "podman pull quay.io/confidential-devhub/fraud-detection"
   ]
  }
 ],
 "metadata": {
  "kernelspec": {
   "display_name": "Python 3 (ipykernel)",
   "language": "python",
   "name": "python3"
  },
  "language_info": {
   "codemirror_mode": {
    "name": "ipython",
    "version": 3
   },
   "file_extension": ".py",
   "mimetype": "text/x-python",
   "name": "python",
   "nbconvert_exporter": "python",
   "pygments_lexer": "ipython3",
   "version": "3.9.21"
  },
  "vscode": {
   "interpreter": {
    "hash": "63462a1f26ab486248b2a0fd058a0d9f9a6566a80083a3e1eb8f35617f2381b2"
   }
  }
 },
 "nbformat": 4,
 "nbformat_minor": 4
}
