{
 "cells": [
  {
   "cell_type": "markdown",
   "id": "e9d17d57",
   "metadata": {},
   "source": [
    "# Encrypt datasets\n",
    "\n",
    "Now that the dataset is ready, encrypt them. Because the same key has to be shared between the setup part (on a secure environment) and the deployed model (on a CVM), for semplicity use a shared key on a publicly available webserver."
   ]
  },
  {
   "cell_type": "code",
   "execution_count": null,
   "id": "b7a85a70-7cd8-42a0-b643-2b3f09655495",
   "metadata": {},
   "outputs": [],
   "source": [
    "! curl -L https://people.redhat.com/eesposit/key.bin -o key.bin"
   ]
  },
  {
   "cell_type": "code",
   "execution_count": null,
   "id": "8e2dd2cd-63c2-4ab4-9aa4-809f2f6a410d",
   "metadata": {},
   "outputs": [],
   "source": [
    "%%bash\n",
    "\n",
    "KEY_FILE=key.bin\n",
    "DATASET_SRC=datasets\n",
    "DATASET_DEST=datasets_enc\n",
    "\n",
    "mkdir -p $DATASET_DEST\n",
    "\n",
    "for file in $DATASET_SRC/*; do\n",
    "    fname=$(basename $file)\n",
    "    openssl enc -aes-256-cfb -pbkdf2 -kfile $KEY_FILE -in $file -out $DATASET_DEST/$fname.enc\n",
    "done\n",
    "\n",
    "ls $DATASET_DEST"
   ]
  },
  {
   "cell_type": "markdown",
   "id": "838a8566",
   "metadata": {},
   "source": [
    "Because the key is not needed anymore at this point, delete it. Since we are in a secure environment this is not important though."
   ]
  },
  {
   "cell_type": "code",
   "execution_count": null,
   "id": "326946d7-4f6c-4765-90a0-908961e56e88",
   "metadata": {},
   "outputs": [],
   "source": [
    "! rm -f key.bin"
   ]
  }
 ],
 "metadata": {
  "kernelspec": {
   "display_name": "Python 3 (ipykernel)",
   "language": "python",
   "name": "python3"
  },
  "language_info": {
   "codemirror_mode": {
    "name": "ipython",
    "version": 3
   },
   "file_extension": ".py",
   "mimetype": "text/x-python",
   "name": "python",
   "nbconvert_exporter": "python",
   "pygments_lexer": "ipython3",
   "version": "3.9.21"
  }
 },
 "nbformat": 4,
 "nbformat_minor": 5
}
