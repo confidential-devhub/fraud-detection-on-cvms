{
 "cells": [
  {
   "cell_type": "markdown",
   "id": "d60a103e",
   "metadata": {},
   "source": [
    "# Create syntetic dataset\n",
    "\n",
    "In order to create the dataset, just take the original ones and shuffle vertically the transaction data leaving it in the same column.\n",
    "For example, an input data\n",
    "```\n",
    "10, 20\n",
    "30, 40\n",
    "```\n",
    "could be reshuffled as\n",
    "```\n",
    "10,40\n",
    "30,20\n",
    "```"
   ]
  },
  {
   "cell_type": "code",
   "execution_count": null,
   "id": "4171ac28-7ac9-4402-bb44-39ff87ea9e6b",
   "metadata": {},
   "outputs": [],
   "source": [
    "pip install pandas numpy > /dev/null"
   ]
  },
  {
   "cell_type": "code",
   "execution_count": null,
   "id": "63e6d85f-773a-4b4c-a77a-d924aad8e342",
   "metadata": {},
   "outputs": [],
   "source": [
    "import pandas as pd\n",
    "\n",
    "def randomize_testset(url, out):\n",
    "    df = pd.read_csv(url)\n",
    "    feature_indexes = [\n",
    "        1,  # distance_from_last_transaction\n",
    "        2,  # ratio_to_median_purchase_price\n",
    "        4,  # used_chip\n",
    "        5,  # used_pin_number\n",
    "        6,  # online_order\n",
    "    ]\n",
    "    filtered_df = df.iloc[:, feature_indexes]\n",
    "    random_df = filtered_df.apply(lambda col: col.sample(frac=1).reset_index(drop=True))\n",
    "    random_df.to_csv(out, index=False)\n",
    "    print(f\"{out} created!\")\n",
    "\n",
    "url = \"https://raw.githubusercontent.com/redhat-developer-demos/openshift-ai/refs/heads/main/4_Models_inferencing/data/test.csv\"\n",
    "url2 = \"https://raw.githubusercontent.com/redhat-developer-demos/openshift-ai/refs/heads/main/4_Models_inferencing/data/validate.csv\"\n",
    "\n",
    "! mkdir -p datasets\n",
    "\n",
    "randomize_testset(url, \"datasets/dataset1.csv\")\n",
    "randomize_testset(url2, \"datasets/dataset2.csv\")"
   ]
  }
 ],
 "metadata": {
  "kernelspec": {
   "display_name": "Python 3 (ipykernel)",
   "language": "python",
   "name": "python3"
  },
  "language_info": {
   "codemirror_mode": {
    "name": "ipython",
    "version": 3
   },
   "file_extension": ".py",
   "mimetype": "text/x-python",
   "name": "python",
   "nbconvert_exporter": "python",
   "pygments_lexer": "ipython3",
   "version": "3.9.21"
  }
 },
 "nbformat": 4,
 "nbformat_minor": 5
}
