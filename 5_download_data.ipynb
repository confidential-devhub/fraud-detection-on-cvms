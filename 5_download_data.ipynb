{
 "cells": [
  {
   "cell_type": "markdown",
   "id": "48c79f51",
   "metadata": {},
   "source": [
    "# Download encrypted datasets\n",
    "\n",
    "In this example, we will download 2 encrypted datasets, one coming from Azure and one from AWS.\n",
    "The datasets are encrypted and also the connection with the cloud is secured, so here we show **data in transit** security.\n",
    "This means that if an attacker tries to sniff the network and captures this data while it is travelling, no data will be actually leaked since data is encrypted and only the sender and recipient can decrypt it."
   ]
  },
  {
   "cell_type": "code",
   "execution_count": null,
   "id": "c1c2342f-a13b-4685-bc62-10939042e3f9",
   "metadata": {},
   "outputs": [],
   "source": [
    "! mkdir -p downloaded_datasets"
   ]
  },
  {
   "cell_type": "markdown",
   "id": "7f58226f",
   "metadata": {},
   "source": [
    "## Azure"
   ]
  },
  {
   "cell_type": "code",
   "execution_count": null,
   "id": "80bfb32e-2722-4c12-8e6a-201c99a3ef7b",
   "metadata": {},
   "outputs": [],
   "source": [
    "pip install azure.storage.blob > /dev/null"
   ]
  },
  {
   "cell_type": "code",
   "execution_count": null,
   "id": "85bfc120-5031-4827-b044-be6b691f9054",
   "metadata": {},
   "outputs": [],
   "source": [
    "from azure.storage.blob import BlobServiceClient\n",
    "\n",
    "connection_string = \"\"\n",
    "container_name = \"data1\"\n",
    "blob_name = \"dataset1.csv.enc\"\n",
    "download_file_path = \"downloaded_datasets/dataset1.csv.enc\"\n",
    "\n",
    "# Create the BlobServiceClient\n",
    "blob_service_client = BlobServiceClient.from_connection_string(connection_string)\n",
    "\n",
    "# Get the container client\n",
    "container_client = blob_service_client.get_container_client(container_name)\n",
    "\n",
    "# # Download the blob\n",
    "with open(download_file_path, \"wb\") as f:\n",
    "    blob_data = container_client.download_blob(blob_name)\n",
    "    f.write(blob_data.readall())\n",
    "    print(f\"Downloaded {blob_name}\")\n",
    "\n",
    "! head $download_file_path"
   ]
  },
  {
   "cell_type": "markdown",
   "id": "ccac16e2",
   "metadata": {},
   "source": [
    "## AWS"
   ]
  },
  {
   "cell_type": "code",
   "execution_count": null,
   "id": "c72367a8-824e-43b4-bee3-ebe40db27837",
   "metadata": {},
   "outputs": [],
   "source": [
    "pip install boto3 botocore > /dev/null"
   ]
  },
  {
   "cell_type": "code",
   "execution_count": null,
   "id": "5be00167-d267-42fb-bab2-8030da61e608",
   "metadata": {},
   "outputs": [],
   "source": [
    "import boto3\n",
    "import os\n",
    "\n",
    "# Replace with your actual AWS credentials\n",
    "aws_access_key_id = 'YOUR_ACCESS_KEY_ID'\n",
    "aws_secret_access_key = 'YOUR_SECRET_ACCESS_KEY'\n",
    "\n",
    "# Replace with your bucket name\n",
    "bucket_name = 'eesposit'\n",
    "prefix = 'dataset2.csv.enc'\n",
    "download_path = 'downloaded_datasets'\n",
    "\n",
    "s3 = boto3.client(\n",
    "    's3',\n",
    "    aws_access_key_id=aws_access_key_id,\n",
    "    aws_secret_access_key=aws_secret_access_key\n",
    ")\n",
    "\n",
    "response = s3.list_objects_v2(Bucket=bucket_name, Prefix=prefix)\n",
    "\n",
    "if 'Contents' in response:\n",
    "    for obj in response['Contents']:\n",
    "        key = obj['Key']\n",
    "        local_file_path = os.path.join(download_path, key)\n",
    "        os.makedirs(os.path.dirname(local_file_path), exist_ok=True)\n",
    "        s3.download_file(bucket_name, key, local_file_path)\n",
    "        print(f\"Downloaded {key}\")\n",
    "else:\n",
    "    print(\"No objects found with the specified prefix.\")\n",
    "\n",
    "! head $download_path/$prefix"
   ]
  }
 ],
 "metadata": {
  "kernelspec": {
   "display_name": "Python 3 (ipykernel)",
   "language": "python",
   "name": "python3"
  },
  "language_info": {
   "codemirror_mode": {
    "name": "ipython",
    "version": 3
   },
   "file_extension": ".py",
   "mimetype": "text/x-python",
   "name": "python",
   "nbconvert_exporter": "python",
   "pygments_lexer": "ipython3",
   "version": "3.9.21"
  }
 },
 "nbformat": 4,
 "nbformat_minor": 5
}
