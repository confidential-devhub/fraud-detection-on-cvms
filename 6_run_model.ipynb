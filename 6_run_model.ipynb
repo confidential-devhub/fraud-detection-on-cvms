{
 "cells": [
  {
   "cell_type": "markdown",
   "id": "2662b225",
   "metadata": {},
   "source": [
    "# Run the model\n",
    "\n",
    "Now that the datasets are downloaded and decrypted, just load them in memory and feed them to the fraud-detection model."
   ]
  },
  {
   "cell_type": "markdown",
   "id": "c025226e",
   "metadata": {},
   "source": [
    "The model is present in `quay.io/confidential-devhub/fraud-detection`, so just pull it and run the container"
   ]
  },
  {
   "cell_type": "code",
   "execution_count": null,
   "id": "f0bddcaa-ee43-45d9-9824-bcc2e0837638",
   "metadata": {},
   "outputs": [],
   "source": [
    "%%bash\n",
    "\n",
    "INPUT_DATA=./datasets_dec\n",
    "\n",
    "podman run --rm -v $INPUT_DATA:/app/input:z quay.io/confidential-devhub/fraud-detection"
   ]
  }
 ],
 "metadata": {
  "kernelspec": {
   "display_name": "Python 3 (ipykernel)",
   "language": "python",
   "name": "python3"
  },
  "language_info": {
   "codemirror_mode": {
    "name": "ipython",
    "version": 3
   },
   "file_extension": ".py",
   "mimetype": "text/x-python",
   "name": "python",
   "nbconvert_exporter": "python",
   "pygments_lexer": "ipython3",
   "version": "3.9.21"
  }
 },
 "nbformat": 4,
 "nbformat_minor": 5
}
