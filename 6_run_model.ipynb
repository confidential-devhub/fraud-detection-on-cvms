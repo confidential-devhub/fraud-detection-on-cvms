{
 "cells": [
  {
   "cell_type": "markdown",
   "id": "2662b225",
   "metadata": {},
   "source": [
    "# Run the model\n",
    "\n",
    "Now that the datasets are downloaded and decrypted, just load them in memory and feed them to the fraud-detection model."
   ]
  },
  {
   "cell_type": "markdown",
   "id": "c025226e",
   "metadata": {},
   "source": [
    "Load the datasets:"
   ]
  },
  {
   "cell_type": "code",
   "execution_count": null,
   "id": "f0bddcaa-ee43-45d9-9824-bcc2e0837638",
   "metadata": {},
   "outputs": [],
   "source": [
    "import numpy as np\n",
    "import pickle\n",
    "import csv\n",
    "import random\n",
    "import os\n",
    "import onnxruntime as rt\n",
    "\n",
    "sess = rt.InferenceSession(\"setup/models/fraud/1/model.onnx\", providers=rt.get_available_providers())\n",
    "\n",
    "with open('setup/artifact/scaler.pkl', 'rb') as handle:\n",
    "    scaler = pickle.load(handle)\n",
    "with open('setup/artifact/test_data.pkl', 'rb') as handle:\n",
    "    (X_test, y_test) = pickle.load(handle)\n",
    "\n",
    "input_name = sess.get_inputs()[0].name\n",
    "output_name = sess.get_outputs()[0].name\n",
    "\n",
    "def ask_model(query):\n",
    "    prediction = sess.run([output_name], {input_name: scaler.transform(query).astype(np.float32)})\n",
    "    threshold = 0.999999\n",
    "    bool_answer = np.squeeze(prediction) > threshold and np.squeeze(prediction) < 1\n",
    "    perc_answer = \"{:.5f}\".format(100 * np.squeeze(prediction)) + \"%\"\n",
    "    return (bool_answer, perc_answer)\n",
    "\n",
    "def open_all_files_in_folder(folder_path):\n",
    "    input_data = []\n",
    "\n",
    "    for filename in os.listdir(folder_path):\n",
    "        file_path = os.path.join(folder_path, filename)\n",
    "\n",
    "        if os.path.isfile(file_path):\n",
    "            try:\n",
    "                with open(file_path, 'r', encoding='utf-8', newline='') as f:\n",
    "                    print(f\"Loaded {file_path}\")\n",
    "                    reader = list(csv.reader(f))[1:]\n",
    "                    input_data += reader\n",
    "            except Exception as e:\n",
    "                print(f\"Could not read {filename}: {e}\")\n",
    "\n",
    "    # random.shuffle(input_data)\n",
    "    return input_data"
   ]
  },
  {
   "cell_type": "markdown",
   "id": "a8ec1ba4",
   "metadata": {},
   "source": [
    "And now run the model:"
   ]
  },
  {
   "cell_type": "code",
   "execution_count": null,
   "id": "00a7aa6b-6b2f-49c8-8a10-cce450ebe967",
   "metadata": {},
   "outputs": [],
   "source": [
    "import time\n",
    "from colorama import Fore, Style\n",
    "\n",
    "data = open_all_files_in_folder(\"datasets_dec\")\n",
    "\n",
    "print(\"Inspecting credit card transactions... (Note: printing the progress slows the process down)\")\n",
    "\n",
    "i = 0\n",
    "for query in data:\n",
    "    b, p = ask_model([query])\n",
    "    b_t = \"FALSE\"\n",
    "    stop_print=False\n",
    "    if b:\n",
    "        b_t = Fore.RED + \"TRUE\" + Style.RESET_ALL\n",
    "        stop_print=True\n",
    "    print(f\"\\rIs query {i} fraudulent? {b_t}. Likelyhood of fraud: {p}\", end='')\n",
    "    # time.sleep(0.3)\n",
    "    if stop_print:\n",
    "        print(\"\")\n",
    "        time.sleep(1)\n",
    "    i+=1"
   ]
  }
 ],
 "metadata": {
  "kernelspec": {
   "display_name": "Python 3 (ipykernel)",
   "language": "python",
   "name": "python3"
  },
  "language_info": {
   "codemirror_mode": {
    "name": "ipython",
    "version": 3
   },
   "file_extension": ".py",
   "mimetype": "text/x-python",
   "name": "python",
   "nbconvert_exporter": "python",
   "pygments_lexer": "ipython3",
   "version": "3.9.21"
  }
 },
 "nbformat": 4,
 "nbformat_minor": 5
}
