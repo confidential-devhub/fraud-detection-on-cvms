{
 "cells": [
  {
   "cell_type": "markdown",
   "id": "cde38d58",
   "metadata": {},
   "source": [
    "# Initial Setup\n",
    "\n",
    "Let's first check that the root disk is encrypted. We do that by running the `lsblk` command.\n",
    "Having an encrypted root disk provides **data at rest**, meaning the model and the data will be encrypted before being stored into the disk.\n",
    "An attacker trying to mounting the disk separately will not be able to read anything without the proper key to unlock the disk."
   ]
  },
  {
   "cell_type": "code",
   "execution_count": null,
   "id": "32e2bcf1-2872-4546-b353-3728904ce384",
   "metadata": {},
   "outputs": [],
   "source": [
    "! lsblk"
   ]
  },
  {
   "cell_type": "markdown",
   "id": "6e022341",
   "metadata": {},
   "source": [
    "The output should be something like\n",
    "```\n",
    "NAME     MAJ:MIN RM  SIZE RO TYPE  MOUNTPOINTS\n",
    "sda        8:0    0   32G  0 disk\n",
    "├─sda1     8:1    0    4M  0 part\n",
    "├─sda2     8:2    0  252M  0 part  /boot/efi\n",
    "└─sda3     8:3    0 31.7G  0 part\n",
    "  └─root 253:0    0 31.7G  0 crypt /\n",
    "sr0       11:0    1  628K  0 rom\n",
    "```\n",
    "Note how the `root` is of type `crypt`, confirming our root disk is encrypted."
   ]
  }
 ],
 "metadata": {
  "kernelspec": {
   "display_name": "Python 3 (ipykernel)",
   "language": "python",
   "name": "python3"
  },
  "language_info": {
   "codemirror_mode": {
    "name": "ipython",
    "version": 3
   },
   "file_extension": ".py",
   "mimetype": "text/x-python",
   "name": "python",
   "nbconvert_exporter": "python",
   "pygments_lexer": "ipython3",
   "version": "3.9.21"
  }
 },
 "nbformat": 4,
 "nbformat_minor": 5
}
