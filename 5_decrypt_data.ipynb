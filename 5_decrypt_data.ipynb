{
 "cells": [
  {
   "cell_type": "markdown",
   "id": "825ddf16",
   "metadata": {},
   "source": [
    "# Decrypt datasets\n",
    "\n",
    "Here is where **attestation** takes place. We need the key to decrypt the datasets, but it is stored in a remote attester (Trustee), and it will be provided to us only if **attestation** is successful, meaning the software & hardware of the CVM have not been tampered with.\n",
    "\n",
    "By doing this we ensure that the CVM is **safe** and having the right hardware and software running prevents any attacker from fetching the transactions while they are being read by the model (**data in use** security). This is possible because the hardware inside the CVM makes sure that all data being loaded in the memory is encrypted, so that if an attacker tries to do a physical/virtual memory dump, the output will only be encrypted/zeroed blobs of memory.\n",
    "\n",
    "This is what **Confidential Computing** is about: securing data in use."
   ]
  },
  {
   "cell_type": "markdown",
   "id": "0e57c178",
   "metadata": {},
   "source": [
    "Let's start by fetching the required key:"
   ]
  },
  {
   "cell_type": "code",
   "execution_count": null,
   "id": "fa34c996-b9da-4044-9fb1-291cb4c7dd25",
   "metadata": {},
   "outputs": [],
   "source": [
    "%%bash\n",
    "\n",
    "TRUSTEE_KEY_LOCATION=./tee_key.pem\n",
    "openssl genrsa -traditional -out $TRUSTEE_KEY_LOCATION 2048\n",
    "\n",
    "TRUSTEE_IP=10.0.0.4\n",
    "TRUESTEE_KEY_PATH=default/fraud-detection/data_key\n",
    "\n",
    "OUT_FOLDER=./keys # path where the downloaded key and attestation token will be stored\n",
    "\n",
    "mkdir -p $OUT_FOLDER\n",
    "\n",
    "sudo podman run -it \\\n",
    "  --privileged \\\n",
    "  --device /dev/tpm0 \\\n",
    "  -v $OUT_FOLDER:/keys \\\n",
    "  -v $TRUSTEE_KEY_LOCATION:/tee-key.pem \\\n",
    "  -v /dev/log:/dev/log \\\n",
    "  --rm \\\n",
    "  quay.io/confidential-containers/kbs-client:v0.3.0 \\\n",
    "  kbs-client --url http://$TRUSTEE_IP:8080 attest --tee-key-file tee-key.pem > keys/attestation_token\n",
    "\n",
    "sudo podman run -it \\\n",
    "  --privileged \\\n",
    "  --device /dev/tpm0 \\\n",
    "  -v $OUT_FOLDER:/keys \\\n",
    "  -v $TRUSTEE_KEY_LOCATION:/tee-key.pem \\\n",
    "  -v /dev/log:/dev/log \\\n",
    "  --rm \\\n",
    "  quay.io/confidential-containers/kbs-client:v0.3.0 \\\n",
    "  kbs-client --url http://$TRUSTEE_IP:8080 get-resource --attestation-token keys/attestation_token --tee-key-file tee-key.pem --path $TRUESTEE_KEY_PATH | base64 --decode > keys/key.bin\n",
    "\n",
    "ls $OUT_FOLDER"
   ]
  },
  {
   "cell_type": "markdown",
   "id": "3a55692f",
   "metadata": {},
   "source": [
    "Since we got a key in `$OUT_FOLDER/key.bin`, let's now decrypt the models!"
   ]
  },
  {
   "cell_type": "code",
   "execution_count": null,
   "id": "1b5c8f55-0d43-4c16-9a1a-ed9952a87e69",
   "metadata": {},
   "outputs": [],
   "source": [
    "%%bash\n",
    "\n",
    "KEY_FILE=keys/key.bin\n",
    "DATASET_SRC=downloaded_datasets\n",
    "DATASET_DEST=datasets_dec\n",
    "\n",
    "mkdir -p $DATASET_DEST\n",
    "rm -rf $DATASET_DEST/*\n",
    "\n",
    "for file in $DATASET_SRC/*; do\n",
    "    fname=$(basename $file)\n",
    "    fname=${fname%.enc}\n",
    "    openssl enc -d -aes-256-cfb -pbkdf2 -kfile $KEY_FILE -in $file -out $DATASET_DEST/$fname\n",
    "    echo \"Decrypted\" $DATASET_DEST/$fname\":\"\n",
    "    head $DATASET_DEST/$fname\n",
    "    echo \"\"\n",
    "done\n",
    "\n",
    "ls $DATASET_DEST"
   ]
  },
  {
   "cell_type": "markdown",
   "id": "d8e93c84",
   "metadata": {},
   "source": [
    "Get rid of the key, since we don't need it anymore. The key is anyways stored in an attested CVM (so no intruder can enter), and stored in an encrypted disk."
   ]
  },
  {
   "cell_type": "code",
   "execution_count": null,
   "id": "974c1fd6-7c1c-4e53-afa2-2afffcaddf83",
   "metadata": {},
   "outputs": [],
   "source": [
    "! rm -rf keys/*"
   ]
  }
 ],
 "metadata": {
  "kernelspec": {
   "display_name": "Python 3 (ipykernel)",
   "language": "python",
   "name": "python3"
  },
  "language_info": {
   "codemirror_mode": {
    "name": "ipython",
    "version": 3
   },
   "file_extension": ".py",
   "mimetype": "text/x-python",
   "name": "python",
   "nbconvert_exporter": "python",
   "pygments_lexer": "ipython3",
   "version": "3.9.21"
  }
 },
 "nbformat": 4,
 "nbformat_minor": 5
}
