{
 "cells": [
  {
   "cell_type": "markdown",
   "id": "2662b225",
   "metadata": {},
   "source": [
    "# Cleanup\n",
    "\n",
    "Delete all files to restart the demo"
   ]
  },
  {
   "cell_type": "code",
   "execution_count": null,
   "id": "f0bddcaa-ee43-45d9-9824-bcc2e0837638",
   "metadata": {},
   "outputs": [],
   "source": [
    "%%bash\n",
    "\n",
    "rm -rf setup_secure_env/datasets setup_secure_env/datasets_enc downloaded_datasets keys tee_key.pem datasets_dec"
   ]
  }
 ],
 "metadata": {
  "kernelspec": {
   "display_name": "Python 3 (ipykernel)",
   "language": "python",
   "name": "python3"
  },
  "language_info": {
   "codemirror_mode": {
    "name": "ipython",
    "version": 3
   },
   "file_extension": ".py",
   "mimetype": "text/x-python",
   "name": "python",
   "nbconvert_exporter": "python",
   "pygments_lexer": "ipython3",
   "version": "3.9.21"
  }
 },
 "nbformat": 4,
 "nbformat_minor": 5
}
